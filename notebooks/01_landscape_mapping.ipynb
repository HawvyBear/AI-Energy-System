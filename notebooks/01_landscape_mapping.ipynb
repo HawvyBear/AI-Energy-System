{
  "cells": [
    {
      "cell_type": "markdown",
      "metadata": {},
      "source": [
        "# AI Energy Systems — Landscape Mapping\n",
        "\n",
        "Initial notebook exploring global AI energy consumption trends.\n",
        "\n",
        "## Goals\n",
        "- Collect and visualize public data on data-center energy use\n",
        "- Explore trends in PUE (Power Usage Effectiveness)\n",
        "- Build simple plots of AI compute growth vs power demand"
      ]
    }
  ],
  "metadata": {
    "kernelspec": {
      "display_name": "Python 3",
      "language": "python",
      "name": "python3"
    }
  },
  "nbformat": 4,
  "nbformat_minor": 2
}
